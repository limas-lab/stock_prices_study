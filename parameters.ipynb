{
  "nbformat": 4,
  "nbformat_minor": 0,
  "metadata": {
    "colab": {
      "name": "parameters.ipynb",
      "provenance": [],
      "authorship_tag": "ABX9TyPdeqeOyw7nNiuBpqeo0YuY",
      "include_colab_link": true
    },
    "kernelspec": {
      "name": "python3",
      "display_name": "Python 3"
    },
    "language_info": {
      "name": "python"
    }
  },
  "cells": [
    {
      "cell_type": "markdown",
      "metadata": {
        "id": "view-in-github",
        "colab_type": "text"
      },
      "source": [
        "<a href=\"https://colab.research.google.com/github/limas-lab/stock_prices_study/blob/master/parameters.ipynb\" target=\"_parent\"><img src=\"https://colab.research.google.com/assets/colab-badge.svg\" alt=\"Open In Colab\"/></a>"
      ]
    },
    {
      "cell_type": "code",
      "execution_count": null,
      "metadata": {
        "id": "bQ6biAq7BH5z"
      },
      "outputs": [],
      "source": [
        "import os"
      ]
    },
    {
      "cell_type": "code",
      "source": [
        "parameters = {\n",
        "    'stock_prices_transient': '/content/drive/MyDrive/Colab Notebooks/TRANSIENT/S&P 500 Stock Prices 2014-2017.csv',\n",
        "    'stock_prices_raw': '/content/drive/MyDrive/Colab Notebooks/RAW/S_P_500_Prices_2014_2017'\n",
        "\n",
        "}"
      ],
      "metadata": {
        "id": "pr6JsS1WBTU5"
      },
      "execution_count": null,
      "outputs": []
    },
    {
      "cell_type": "code",
      "source": [
        "def get_parameters(parameter):\n",
        "  return parameters[parameter]"
      ],
      "metadata": {
        "id": "xugunEpXCU4E"
      },
      "execution_count": null,
      "outputs": []
    }
  ]
}