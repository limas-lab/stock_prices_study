{
  "nbformat": 4,
  "nbformat_minor": 0,
  "metadata": {
    "colab": {
      "name": "stock_prices_study.ipynb",
      "provenance": [],
      "collapsed_sections": [],
      "mount_file_id": "1uvC2xhAZjPqptvOMgOWj8_pF8jFvbLBX",
      "authorship_tag": "ABX9TyMW+FTGjdpBXNMxvE9w8ECZ",
      "include_colab_link": true
    },
    "kernelspec": {
      "name": "python3",
      "display_name": "Python 3"
    },
    "language_info": {
      "name": "python"
    }
  },
  "cells": [
    {
      "cell_type": "markdown",
      "metadata": {
        "id": "view-in-github",
        "colab_type": "text"
      },
      "source": [
        "<a href=\"https://colab.research.google.com/github/limas-lab/stock_prices_study/blob/master/stock_prices_study.ipynb\" target=\"_parent\"><img src=\"https://colab.research.google.com/assets/colab-badge.svg\" alt=\"Open In Colab\"/></a>"
      ]
    },
    {
      "cell_type": "markdown",
      "source": [
        "# Installing PySpark library"
      ],
      "metadata": {
        "id": "VfFGfIE21uk5"
      }
    },
    {
      "cell_type": "code",
      "source": [
        "!pip install pyspark"
      ],
      "metadata": {
        "colab": {
          "base_uri": "https://localhost:8080/"
        },
        "id": "UdW53vN31TT4",
        "outputId": "0bae38bc-856a-4c97-cc58-5bfdd2d25dc5"
      },
      "execution_count": null,
      "outputs": [
        {
          "output_type": "stream",
          "name": "stdout",
          "text": [
            "Collecting pyspark\n",
            "  Downloading pyspark-3.2.1.tar.gz (281.4 MB)\n",
            "\u001b[K     |████████████████████████████████| 281.4 MB 34 kB/s \n",
            "\u001b[?25hCollecting py4j==0.10.9.3\n",
            "  Downloading py4j-0.10.9.3-py2.py3-none-any.whl (198 kB)\n",
            "\u001b[K     |████████████████████████████████| 198 kB 51.1 MB/s \n",
            "\u001b[?25hBuilding wheels for collected packages: pyspark\n",
            "  Building wheel for pyspark (setup.py) ... \u001b[?25l\u001b[?25hdone\n",
            "  Created wheel for pyspark: filename=pyspark-3.2.1-py2.py3-none-any.whl size=281853642 sha256=81fa83fff214803ac1a44d18dc831fd3033eeea36010eaed24a4a0ecc10a0523\n",
            "  Stored in directory: /root/.cache/pip/wheels/9f/f5/07/7cd8017084dce4e93e84e92efd1e1d5334db05f2e83bcef74f\n",
            "Successfully built pyspark\n",
            "Installing collected packages: py4j, pyspark\n",
            "Successfully installed py4j-0.10.9.3 pyspark-3.2.1\n"
          ]
        }
      ]
    },
    {
      "cell_type": "markdown",
      "source": [
        "## Importing the libraries"
      ],
      "metadata": {
        "id": "p5G7Iu-616Mt"
      }
    },
    {
      "cell_type": "code",
      "execution_count": null,
      "metadata": {
        "id": "SliEnkPmz6E_",
        "colab": {
          "base_uri": "https://localhost:8080/"
        },
        "outputId": "d1decb5a-aa6a-41d4-e27d-81f5f4e38a9d"
      },
      "outputs": [
        {
          "output_type": "stream",
          "name": "stdout",
          "text": [
            "Drive already mounted at /content/drive; to attempt to forcibly remount, call drive.mount(\"/content/drive\", force_remount=True).\n"
          ]
        }
      ],
      "source": [
        "from pyspark.sql import SparkSession\n",
        "from pyspark.sql.functions import *\n",
        "from pyspark.sql.types import *\n",
        "\n",
        "from google.colab import drive\n",
        "drive.mount('/content/drive')\n",
        "\n",
        "sc = SparkContext('local')\n",
        "spark = SparkSession(sc)"
      ]
    },
    {
      "cell_type": "markdown",
      "source": [
        "## Data engineering part"
      ],
      "metadata": {
        "id": "5sil4gr0MKIw"
      }
    },
    {
      "cell_type": "markdown",
      "source": [
        "### Run the parameters py"
      ],
      "metadata": {
        "id": "daHDlhhnKFqR"
      }
    },
    {
      "cell_type": "code",
      "source": [
        "%run '/content/drive/MyDrive/Colab Notebooks/parameters.ipynb'"
      ],
      "metadata": {
        "id": "nu5IU4UUCkW2"
      },
      "execution_count": null,
      "outputs": []
    },
    {
      "cell_type": "markdown",
      "source": [
        "### Variable assignation"
      ],
      "metadata": {
        "id": "ve1UpoprKLXn"
      }
    },
    {
      "cell_type": "code",
      "source": [
        "path_transient = get_parameters('stock_prices_transient')"
      ],
      "metadata": {
        "id": "t60aBdgY0GD6"
      },
      "execution_count": null,
      "outputs": []
    },
    {
      "cell_type": "code",
      "source": [
        "df = spark.read.csv(path_transient,header=True,inferSchema=True,sep=\",\")"
      ],
      "metadata": {
        "id": "lk9frMuz3_te"
      },
      "execution_count": null,
      "outputs": []
    },
    {
      "cell_type": "code",
      "source": [
        "df.show(10)"
      ],
      "metadata": {
        "colab": {
          "base_uri": "https://localhost:8080/"
        },
        "id": "mkCXaxau5oNB",
        "outputId": "01dc2d2a-f941-4f2a-9cf4-8a71f6d3eabc"
      },
      "execution_count": null,
      "outputs": [
        {
          "output_type": "stream",
          "name": "stdout",
          "text": [
            "+------+----------+-------+-------+-------+-------+--------+\n",
            "|symbol|      date|   open|   high|    low|  close|  volume|\n",
            "+------+----------+-------+-------+-------+-------+--------+\n",
            "|   AAL|2014-01-02|  25.07|  25.82|  25.06|  25.36| 8998943|\n",
            "|  AAPL|2014-01-02|79.3828|79.5756|78.8601|79.0185|58791957|\n",
            "|   AAP|2014-01-02| 110.36| 111.88| 109.29| 109.74|  542711|\n",
            "|  ABBV|2014-01-02|  52.12|  52.33|  51.52|  51.98| 4569061|\n",
            "|   ABC|2014-01-02|  70.11|  70.23|  69.48|  69.89| 1148391|\n",
            "|   ABT|2014-01-02|  38.09|   38.4|   38.0|  38.23| 4967472|\n",
            "|   ACN|2014-01-02|   81.5|  81.92|  81.09|  81.13| 2405384|\n",
            "|  ADBE|2014-01-02|  59.06|  59.53|  58.94|  59.29| 2746370|\n",
            "|   ADI|2014-01-02|  49.52|  49.75|  49.04|  49.28| 2799092|\n",
            "|   ADM|2014-01-02|  43.22|  43.29|  42.79|  42.99| 2753765|\n",
            "+------+----------+-------+-------+-------+-------+--------+\n",
            "only showing top 10 rows\n",
            "\n"
          ]
        }
      ]
    },
    {
      "cell_type": "code",
      "source": [
        "df.printSchema()"
      ],
      "metadata": {
        "id": "TYNng7T055yL",
        "colab": {
          "base_uri": "https://localhost:8080/"
        },
        "outputId": "49a1a2e2-6cba-412b-99d9-ce9365104c6e"
      },
      "execution_count": null,
      "outputs": [
        {
          "output_type": "stream",
          "name": "stdout",
          "text": [
            "root\n",
            " |-- symbol: string (nullable = true)\n",
            " |-- date: string (nullable = true)\n",
            " |-- open: double (nullable = true)\n",
            " |-- high: double (nullable = true)\n",
            " |-- low: double (nullable = true)\n",
            " |-- close: double (nullable = true)\n",
            " |-- volume: integer (nullable = true)\n",
            "\n"
          ]
        }
      ]
    },
    {
      "cell_type": "code",
      "source": [
        "string_cols = ['symbol']\n",
        "\n",
        "date_cols = ['date']\n",
        "\n",
        "double_cols = ['open','high','low','close']\n",
        "\n",
        "int_cols = ['volume']"
      ],
      "metadata": {
        "id": "XciFpRC_3yL1"
      },
      "execution_count": null,
      "outputs": []
    },
    {
      "cell_type": "code",
      "source": [
        "for colname in string_cols:\n",
        "  df = df.withColumn(colname,col(colname).cast(StringType()))\n",
        "\n",
        "for colname in date_cols:\n",
        "  df = df.withColumn(colname,col(colname).cast(TimestampType()))\n",
        "\n",
        "for colname in double_cols:\n",
        "  df = df.withColumn(colname,col(colname).cast(DoubleType()))\n",
        "\n",
        "for colname in int_cols:\n",
        "  df = df.withColumn(colname,col(colname).cast(IntegerType()))"
      ],
      "metadata": {
        "id": "G0gZZlEX9YdG"
      },
      "execution_count": null,
      "outputs": []
    },
    {
      "cell_type": "code",
      "source": [
        "df.printSchema()"
      ],
      "metadata": {
        "colab": {
          "base_uri": "https://localhost:8080/"
        },
        "id": "1qu9vHnb-3Ss",
        "outputId": "0fa19bf2-baec-467b-d5a7-acc7d991e0a6"
      },
      "execution_count": null,
      "outputs": [
        {
          "output_type": "stream",
          "name": "stdout",
          "text": [
            "root\n",
            " |-- symbol: string (nullable = true)\n",
            " |-- date: timestamp (nullable = true)\n",
            " |-- open: double (nullable = true)\n",
            " |-- high: double (nullable = true)\n",
            " |-- low: double (nullable = true)\n",
            " |-- close: double (nullable = true)\n",
            " |-- volume: integer (nullable = true)\n",
            "\n"
          ]
        }
      ]
    },
    {
      "cell_type": "code",
      "source": [
        "df.show(10)"
      ],
      "metadata": {
        "colab": {
          "base_uri": "https://localhost:8080/"
        },
        "id": "Db9iRAvY_fQc",
        "outputId": "341277d0-e3b0-4e03-b6f7-7643f823378d"
      },
      "execution_count": null,
      "outputs": [
        {
          "output_type": "stream",
          "name": "stdout",
          "text": [
            "+------+-------------------+-------+-------+-------+-------+--------+\n",
            "|symbol|               date|   open|   high|    low|  close|  volume|\n",
            "+------+-------------------+-------+-------+-------+-------+--------+\n",
            "|   AAL|2014-01-02 00:00:00|  25.07|  25.82|  25.06|  25.36| 8998943|\n",
            "|  AAPL|2014-01-02 00:00:00|79.3828|79.5756|78.8601|79.0185|58791957|\n",
            "|   AAP|2014-01-02 00:00:00| 110.36| 111.88| 109.29| 109.74|  542711|\n",
            "|  ABBV|2014-01-02 00:00:00|  52.12|  52.33|  51.52|  51.98| 4569061|\n",
            "|   ABC|2014-01-02 00:00:00|  70.11|  70.23|  69.48|  69.89| 1148391|\n",
            "|   ABT|2014-01-02 00:00:00|  38.09|   38.4|   38.0|  38.23| 4967472|\n",
            "|   ACN|2014-01-02 00:00:00|   81.5|  81.92|  81.09|  81.13| 2405384|\n",
            "|  ADBE|2014-01-02 00:00:00|  59.06|  59.53|  58.94|  59.29| 2746370|\n",
            "|   ADI|2014-01-02 00:00:00|  49.52|  49.75|  49.04|  49.28| 2799092|\n",
            "|   ADM|2014-01-02 00:00:00|  43.22|  43.29|  42.79|  42.99| 2753765|\n",
            "+------+-------------------+-------+-------+-------+-------+--------+\n",
            "only showing top 10 rows\n",
            "\n"
          ]
        }
      ]
    },
    {
      "cell_type": "code",
      "source": [
        "path_raw = get_parameters('stock_prices_raw')\n",
        "df.write.mode('overwrite').parquet(path_raw)"
      ],
      "metadata": {
        "id": "Ly_py835AHna"
      },
      "execution_count": null,
      "outputs": []
    },
    {
      "cell_type": "markdown",
      "source": [
        "## Data Analysis part"
      ],
      "metadata": {
        "id": "ZtMcMguJJk5A"
      }
    },
    {
      "cell_type": "code",
      "source": [
        "path_raw = get_parameters('stock_prices_raw')\n",
        "df_2 = spark.read.parquet(path_raw)"
      ],
      "metadata": {
        "id": "p47c7t5YJogC"
      },
      "execution_count": null,
      "outputs": []
    },
    {
      "cell_type": "code",
      "source": [
        "df_2.show(10)"
      ],
      "metadata": {
        "colab": {
          "base_uri": "https://localhost:8080/"
        },
        "id": "0_5Z_8nSnR-5",
        "outputId": "246073b1-fcbd-4b03-dc3d-24e98461cecd"
      },
      "execution_count": null,
      "outputs": [
        {
          "output_type": "stream",
          "name": "stdout",
          "text": [
            "+------+-------------------+-------+-------+-------+-------+--------+\n",
            "|symbol|               date|   open|   high|    low|  close|  volume|\n",
            "+------+-------------------+-------+-------+-------+-------+--------+\n",
            "|   AAL|2014-01-02 00:00:00|  25.07|  25.82|  25.06|  25.36| 8998943|\n",
            "|  AAPL|2014-01-02 00:00:00|79.3828|79.5756|78.8601|79.0185|58791957|\n",
            "|   AAP|2014-01-02 00:00:00| 110.36| 111.88| 109.29| 109.74|  542711|\n",
            "|  ABBV|2014-01-02 00:00:00|  52.12|  52.33|  51.52|  51.98| 4569061|\n",
            "|   ABC|2014-01-02 00:00:00|  70.11|  70.23|  69.48|  69.89| 1148391|\n",
            "|   ABT|2014-01-02 00:00:00|  38.09|   38.4|   38.0|  38.23| 4967472|\n",
            "|   ACN|2014-01-02 00:00:00|   81.5|  81.92|  81.09|  81.13| 2405384|\n",
            "|  ADBE|2014-01-02 00:00:00|  59.06|  59.53|  58.94|  59.29| 2746370|\n",
            "|   ADI|2014-01-02 00:00:00|  49.52|  49.75|  49.04|  49.28| 2799092|\n",
            "|   ADM|2014-01-02 00:00:00|  43.22|  43.29|  42.79|  42.99| 2753765|\n",
            "+------+-------------------+-------+-------+-------+-------+--------+\n",
            "only showing top 10 rows\n",
            "\n"
          ]
        }
      ]
    }
  ]
}